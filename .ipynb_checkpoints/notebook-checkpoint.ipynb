{
 "cells": [
  {
   "cell_type": "code",
   "execution_count": null,
   "id": "e64ea5a8",
   "metadata": {},
   "outputs": [
    {
     "name": "stdout",
     "output_type": "stream",
     "text": [
      "['nrg_ind_rctcbt.csv', 'nrg_ind_cotd.csv', 'nrg_ind_stjpjss.csv', 'nrg_ind_urtd.csv', 'nrg_ind_ren.csv', 'notebook.ipynb', 'nrg_ind_rftce.csv', 'nrg_ind_rfce.csv', 'nrg_ind_urhcd.csv', 'nrg_ind_rcaebt.csv', 'nrg_ind_hptctc.csv', 'nrg_ind_ured.csv', 'nrg_ind_ahbtc.csv', 'nrg_ind_rfcer.csv', 'nrg_ind_ibmg.csv', 'nrg_ind_ebmg.csv']\n"
     ]
    }
   ],
   "source": [
    "import os\n",
    "import pandas\n",
    "\n",
    "listOfFiles = os.listdir()\n",
    "\n",
    "#rename the files to readable names\n",
    "readableNames = {\n",
    "    \"nrg_ind_ren\": \"Share of energy from renewable sources\",\n",
    "    \"nrg_ind_urtd\": \"Use of renewables for transport - details\",\n",
    "    \"nrg_ind_ured\": \"Use of renewables for electricity - details\",\n",
    "    \"nrg_ind_urhcd\": \"Use of renewables for heating and cooling\",\n",
    "    \"nrg_ind_cotd\": \"Calculation of overall target - details\",\n",
    "    \"nrg_ind_hptctc\": \"Heat pumps - technical characteristics by technology and climate\",\n",
    "    \"nrg_ind_ahbtc\": \"Heat pumps - ambient heat caputer by technology and climate\",\n",
    "    \"nrg_ind_stjpjss\": \"Statistical transfers, joint projects and joint support schemes\",\n",
    "    \"nrg_ind_rfce\": \"Contribution of renewable fuels to gross final consumption of energy\",\n",
    "    \"nrg_ind_rfcer\": \"Share of renewable fuels in gross final consumption of energy from renewables\",\n",
    "    \"nrg_ind_rftce\": \"Share of renewable fuels in total gross final consumption of energy\",\n",
    "    \"nrg_ind_rcaebt\": \"Renewable cooling - ambient energy by technology\",\n",
    "    \"nrg_ind_rctcbt\": \"Renewable cooling - technical characteristics by technology\",\n",
    "    \"nrg_ind_ibmg\": \"Imports of biomethane through the grid\",\n",
    "    \"nrg_ind_ebmg\": \"Exports of biomethane through grid\",\n",
    "    \"estat_nrg_inf_epc\": \"Electricity production capacities by main fuel groups and operator\"\n",
    "}\n",
    "\n",
    "\n",
    "print(listOfFiles)"
   ]
  }
 ],
 "metadata": {
  "kernelspec": {
   "display_name": "Python 3 (ipykernel)",
   "language": "python",
   "name": "python3"
  },
  "language_info": {
   "codemirror_mode": {
    "name": "ipython",
    "version": 3
   },
   "file_extension": ".py",
   "mimetype": "text/x-python",
   "name": "python",
   "nbconvert_exporter": "python",
   "pygments_lexer": "ipython3",
   "version": "3.13.3"
  }
 },
 "nbformat": 4,
 "nbformat_minor": 5
}
